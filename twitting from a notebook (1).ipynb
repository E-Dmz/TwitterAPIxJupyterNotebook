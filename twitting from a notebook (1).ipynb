{
 "cells": [
  {
   "cell_type": "code",
   "execution_count": 1,
   "id": "b59920cd",
   "metadata": {},
   "outputs": [],
   "source": [
    "import twitter\n",
    "from twitter_key import keys\n",
    "api = twitter.Api(**keys)"
   ]
  },
  {
   "cell_type": "code",
   "execution_count": 3,
   "id": "c161a12e",
   "metadata": {},
   "outputs": [],
   "source": [
    "api.PostUpdate(\"\\n\\\n",
    "[🧡 Code] So easy to tweet with #python and #twitterapi! 👍 \\n\\\n",
    "\\n\\\n",
    "import twitter\\n\\\n",
    "from twitter_key import keys\\n\\\n",
    "api = twitter.Api(**keys)\\n\\\n",
    "api.PostUpdate('So easy to tweet with #python and #twitterapi! 👍 ')\")"
   ]
  },
  {
   "cell_type": "code",
   "execution_count": 1,
   "id": "2d7420f9",
   "metadata": {},
   "outputs": [
    {
     "data": {
      "text/plain": [
       "Status(ID=1416270162186145793, ScreenName=E_Dmz_Bot, Created=Sat Jul 17 05:34:54 +0000 2021, Text='[🧡 Code] So easy to tweet with #python and #twitterapi! 👍')"
      ]
     },
     "execution_count": 1,
     "metadata": {},
     "output_type": "execute_result"
    }
   ],
   "source": [
    "import twitter\n",
    "from twitter_key import keys\n",
    "api = twitter.Api(**keys)\n",
    "api.PostUpdate(\"[🧡 Code] So easy to tweet with #python and #twitterapi 👍\")"
   ]
  },
  {
   "cell_type": "code",
   "execution_count": null,
   "id": "487df899",
   "metadata": {},
   "outputs": [],
   "source": [
    "### @E_Dmz_Bot 🤖 ###\n",
    "\n",
    "import twitter\n",
    "from twitter_key import keys\n",
    "api = twitter.Api(**keys)\n",
    "api.PostUpdate(\"[🧡 Code] So easy to tweet with #python and #twitterapi 👍\")\n",
    "\n",
    "### that's all 👍 ###"
   ]
  },
  {
   "cell_type": "code",
   "execution_count": 6,
   "id": "e1ec5862",
   "metadata": {},
   "outputs": [
    {
     "data": {
      "text/plain": [
       "'/home/edmz/TwitterBot'"
      ]
     },
     "execution_count": 6,
     "metadata": {},
     "output_type": "execute_result"
    }
   ],
   "source": [
    "import os\n",
    "os.getcwd()"
   ]
  },
  {
   "cell_type": "code",
   "execution_count": 5,
   "id": "939c225c",
   "metadata": {},
   "outputs": [
    {
     "ename": "FileNotFoundError",
     "evalue": "[Errno 2] No such file or directory: '/home/edmz/TwitterBot/Demo.png'",
     "output_type": "error",
     "traceback": [
      "\u001b[0;31m---------------------------------------------------------------------------\u001b[0m",
      "\u001b[0;31mFileNotFoundError\u001b[0m                         Traceback (most recent call last)",
      "\u001b[0;32m<ipython-input-5-dc385f7677b7>\u001b[0m in \u001b[0;36m<module>\u001b[0;34m\u001b[0m\n\u001b[1;32m      5\u001b[0m \u001b[0mapi\u001b[0m \u001b[0;34m=\u001b[0m \u001b[0mtwitter\u001b[0m\u001b[0;34m.\u001b[0m\u001b[0mApi\u001b[0m\u001b[0;34m(\u001b[0m\u001b[0;34m**\u001b[0m\u001b[0mkeys\u001b[0m\u001b[0;34m)\u001b[0m\u001b[0;34m\u001b[0m\u001b[0;34m\u001b[0m\u001b[0m\n\u001b[1;32m      6\u001b[0m \u001b[0;34m\u001b[0m\u001b[0m\n\u001b[0;32m----> 7\u001b[0;31m api.PostUpdate(\"[🧡 Code] \\\n\u001b[0m\u001b[1;32m      8\u001b[0m \u001b[0mSo\u001b[0m \u001b[0measy\u001b[0m \u001b[0mto\u001b[0m \u001b[0mtweet\u001b[0m \u001b[0;32mwith\u001b[0m \u001b[0;31m#python \\\u001b[0m\u001b[0;34m\u001b[0m\u001b[0;34m\u001b[0m\u001b[0m\n\u001b[1;32m      9\u001b[0m \u001b[0;32mand\u001b[0m \u001b[0mthe\u001b[0m \u001b[0;31m#twitterapi 👍\",\u001b[0m\u001b[0;34m\u001b[0m\u001b[0;34m\u001b[0m\u001b[0m\n",
      "\u001b[0;32m~/.local/lib/python3.8/site-packages/twitter/api.py\u001b[0m in \u001b[0;36mPostUpdate\u001b[0;34m(self, status, media, media_additional_owners, media_category, in_reply_to_status_id, auto_populate_reply_metadata, exclude_reply_user_ids, latitude, longitude, place_id, display_coordinates, trim_user, verify_status_length, attachment_url)\u001b[0m\n\u001b[1;32m   1159\u001b[0m                     \u001b[0mmedia_ids\u001b[0m\u001b[0;34m.\u001b[0m\u001b[0mappend\u001b[0m\u001b[0;34m(\u001b[0m\u001b[0mmedia_id\u001b[0m\u001b[0;34m)\u001b[0m\u001b[0;34m\u001b[0m\u001b[0;34m\u001b[0m\u001b[0m\n\u001b[1;32m   1160\u001b[0m             \u001b[0;32melse\u001b[0m\u001b[0;34m:\u001b[0m\u001b[0;34m\u001b[0m\u001b[0;34m\u001b[0m\u001b[0m\n\u001b[0;32m-> 1161\u001b[0;31m                 \u001b[0m_\u001b[0m\u001b[0;34m,\u001b[0m \u001b[0m_\u001b[0m\u001b[0;34m,\u001b[0m \u001b[0mfile_size\u001b[0m\u001b[0;34m,\u001b[0m \u001b[0mmedia_type\u001b[0m \u001b[0;34m=\u001b[0m \u001b[0mparse_media_file\u001b[0m\u001b[0;34m(\u001b[0m\u001b[0mmedia\u001b[0m\u001b[0;34m)\u001b[0m\u001b[0;34m\u001b[0m\u001b[0;34m\u001b[0m\u001b[0m\n\u001b[0m\u001b[1;32m   1162\u001b[0m                 \u001b[0;32mif\u001b[0m \u001b[0mfile_size\u001b[0m \u001b[0;34m>\u001b[0m \u001b[0mself\u001b[0m\u001b[0;34m.\u001b[0m\u001b[0mchunk_size\u001b[0m \u001b[0;32mor\u001b[0m \u001b[0mmedia_type\u001b[0m \u001b[0;32min\u001b[0m \u001b[0mchunked_types\u001b[0m\u001b[0;34m:\u001b[0m\u001b[0;34m\u001b[0m\u001b[0;34m\u001b[0m\u001b[0m\n\u001b[1;32m   1163\u001b[0m                     media_ids.append(self.UploadMediaChunked(\n",
      "\u001b[0;32m~/.local/lib/python3.8/site-packages/twitter/twitter_utils.py\u001b[0m in \u001b[0;36mparse_media_file\u001b[0;34m(passed_media, async_upload)\u001b[0m\n\u001b[1;32m    247\u001b[0m             \u001b[0mfilename\u001b[0m \u001b[0;34m=\u001b[0m \u001b[0mos\u001b[0m\u001b[0;34m.\u001b[0m\u001b[0mpath\u001b[0m\u001b[0;34m.\u001b[0m\u001b[0mbasename\u001b[0m\u001b[0;34m(\u001b[0m\u001b[0murlparse\u001b[0m\u001b[0;34m(\u001b[0m\u001b[0mpassed_media\u001b[0m\u001b[0;34m)\u001b[0m\u001b[0;34m.\u001b[0m\u001b[0mpath\u001b[0m\u001b[0;34m)\u001b[0m\u001b[0;34m\u001b[0m\u001b[0;34m\u001b[0m\u001b[0m\n\u001b[1;32m    248\u001b[0m         \u001b[0;32melse\u001b[0m\u001b[0;34m:\u001b[0m\u001b[0;34m\u001b[0m\u001b[0;34m\u001b[0m\u001b[0m\n\u001b[0;32m--> 249\u001b[0;31m             \u001b[0mdata_file\u001b[0m \u001b[0;34m=\u001b[0m \u001b[0mopen\u001b[0m\u001b[0;34m(\u001b[0m\u001b[0mos\u001b[0m\u001b[0;34m.\u001b[0m\u001b[0mpath\u001b[0m\u001b[0;34m.\u001b[0m\u001b[0mrealpath\u001b[0m\u001b[0;34m(\u001b[0m\u001b[0mpassed_media\u001b[0m\u001b[0;34m)\u001b[0m\u001b[0;34m,\u001b[0m \u001b[0;34m'rb'\u001b[0m\u001b[0;34m)\u001b[0m\u001b[0;34m\u001b[0m\u001b[0;34m\u001b[0m\u001b[0m\n\u001b[0m\u001b[1;32m    250\u001b[0m             \u001b[0mfilename\u001b[0m \u001b[0;34m=\u001b[0m \u001b[0mos\u001b[0m\u001b[0;34m.\u001b[0m\u001b[0mpath\u001b[0m\u001b[0;34m.\u001b[0m\u001b[0mbasename\u001b[0m\u001b[0;34m(\u001b[0m\u001b[0mpassed_media\u001b[0m\u001b[0;34m)\u001b[0m\u001b[0;34m\u001b[0m\u001b[0;34m\u001b[0m\u001b[0m\n\u001b[1;32m    251\u001b[0m \u001b[0;34m\u001b[0m\u001b[0m\n",
      "\u001b[0;31mFileNotFoundError\u001b[0m: [Errno 2] No such file or directory: '/home/edmz/TwitterBot/Demo.png'"
     ]
    }
   ],
   "source": [
    "### @E_Dmz_Bot 🤖 ###\n",
    "\n",
    "import twitter\n",
    "from twitter_key import keys\n",
    "api = twitter.Api(**keys)\n",
    "\n",
    "api.PostUpdate(\"[🧡 Code] \\\n",
    "So easy to tweet with #python \\\n",
    "and the #twitterapi 👍\",\n",
    "            media = 'Demo.png')\n",
    "\n",
    "### That's all Folks! ###"
   ]
  },
  {
   "cell_type": "code",
   "execution_count": 4,
   "id": "0e24a980",
   "metadata": {},
   "outputs": [
    {
     "name": "stdout",
     "output_type": "stream",
     "text": [
      "[🧡 Code]\n",
      "    So easy to tweet with #python\n",
      "    and the #twitterapi 👍\n"
     ]
    }
   ],
   "source": [
    "print(\"\"\"[🧡 Code]\n",
    "    So easy to tweet with #python\n",
    "    and the #twitterapi 👍\"\"\")"
   ]
  },
  {
   "cell_type": "code",
   "execution_count": null,
   "id": "2c47bc5c",
   "metadata": {},
   "outputs": [],
   "source": []
  }
 ],
 "metadata": {
  "kernelspec": {
   "display_name": "Python 3",
   "language": "python",
   "name": "python3"
  },
  "language_info": {
   "codemirror_mode": {
    "name": "ipython",
    "version": 3
   },
   "file_extension": ".py",
   "mimetype": "text/x-python",
   "name": "python",
   "nbconvert_exporter": "python",
   "pygments_lexer": "ipython3",
   "version": "3.8.10"
  }
 },
 "nbformat": 4,
 "nbformat_minor": 5
}
