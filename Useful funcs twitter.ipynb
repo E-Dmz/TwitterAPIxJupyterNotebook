{
 "cells": [
  {
   "cell_type": "code",
   "execution_count": 2,
   "id": "aa61308b",
   "metadata": {},
   "outputs": [],
   "source": [
    "import twitter\n",
    "from twitter_key import keys\n",
    "api = twitter.Api(**keys)"
   ]
  },
  {
   "cell_type": "code",
   "execution_count": null,
   "id": "ee1319fb",
   "metadata": {},
   "outputs": [],
   "source": []
  },
  {
   "cell_type": "code",
   "execution_count": 1,
   "id": "fe5b3942",
   "metadata": {},
   "outputs": [
    {
     "data": {
      "text/plain": [
       "'/home/edmz/TwitterBot'"
      ]
     },
     "execution_count": 1,
     "metadata": {},
     "output_type": "execute_result"
    }
   ],
   "source": [
    "import os\n",
    "os.getcwd()"
   ]
  },
  {
   "cell_type": "code",
   "execution_count": 2,
   "id": "473605ef",
   "metadata": {},
   "outputs": [],
   "source": [
    "!touch /home/edmz/TwitterBot/test"
   ]
  },
  {
   "cell_type": "code",
   "execution_count": 6,
   "id": "34a9e837",
   "metadata": {},
   "outputs": [
    {
     "data": {
      "text/plain": [
       "[Status(ID=1416265360957968385, ScreenName=E_Dmz_Bot, Created=Sat Jul 17 05:15:49 +0000 2021, Text='[🧡 Code]\\n    👍 So easy to tweet with #python and #twitterapi!\\n    \\n    import twitter\\n    from twitter_key import k… https://t.co/BbkMfKGxI5')]"
      ]
     },
     "execution_count": 6,
     "metadata": {},
     "output_type": "execute_result"
    }
   ],
   "source": [
    "statuses = api.GetHomeTimeline()[0:1]\n",
    "statuses"
   ]
  },
  {
   "cell_type": "code",
   "execution_count": 7,
   "id": "c59b0dd5",
   "metadata": {},
   "outputs": [],
   "source": [
    "statuses = api.GetHomeTimeline()[0:1]\n",
    "for status in statuses:\n",
    "    api.DestroyStatus(status.id)"
   ]
  },
  {
   "cell_type": "code",
   "execution_count": 3,
   "id": "1dc7b48f",
   "metadata": {},
   "outputs": [
    {
     "data": {
      "text/plain": [
       "[Status(ID=1416246285716307978, ScreenName=E_Dmz_Bot, Created=Sat Jul 17 04:00:01 +0000 2021, Text=\"[WakeUp 🤖]\\nHello,\\nToday is Saturday, July 17, and it's 06:00 in Paris.\\nHave a nice day!\"),\n",
       " Status(ID=1416088240973570052, ScreenName=E_Dmz_Bot, Created=Fri Jul 16 17:32:00 +0000 2021, Text='RT @E_Dmz_Bot: [🤖 MAJ 16/07 19:31]\\nIncidence et données hospitalières en Île-de-France ⤵️\\n@SantePubliqueFr @datagouvfr\\n1/9 https://t.co/59i…'),\n",
       " Status(ID=1416088239761416197, ScreenName=E_Dmz_Bot, Created=Fri Jul 16 17:32:00 +0000 2021, Text=\"🤖 Pour faire cette MAJ, il m'a fallu : \\n2.1 s pour télécharger, \\n7.8 s pour calculer,\\n76.1 s pour tracer,\\net 31.4 s pour publier\\n9/9\")]"
      ]
     },
     "execution_count": 3,
     "metadata": {},
     "output_type": "execute_result"
    }
   ],
   "source": [
    "api.GetUserTimeline()[:3]"
   ]
  },
  {
   "cell_type": "code",
   "execution_count": null,
   "id": "19d6b61e",
   "metadata": {},
   "outputs": [],
   "source": [
    "status_posted = api.PostUpdate(f'Hello world!')"
   ]
  },
  {
   "cell_type": "code",
   "execution_count": null,
   "id": "19d321fb",
   "metadata": {},
   "outputs": [],
   "source": [
    "status_posted_2 = api.PostUpdate('I can reply too...', in_reply_to_status_id = status_posted.id, auto_populate_reply_metadata = True)"
   ]
  },
  {
   "cell_type": "code",
   "execution_count": null,
   "id": "fef23453",
   "metadata": {},
   "outputs": [],
   "source": [
    "api.DestroyStatus(status_posted.id)\n",
    "api.DestroyStatus(status_posted_2.id)"
   ]
  }
 ],
 "metadata": {
  "kernelspec": {
   "display_name": "Python 3",
   "language": "python",
   "name": "python3"
  },
  "language_info": {
   "codemirror_mode": {
    "name": "ipython",
    "version": 3
   },
   "file_extension": ".py",
   "mimetype": "text/x-python",
   "name": "python",
   "nbconvert_exporter": "python",
   "pygments_lexer": "ipython3",
   "version": "3.8.10"
  }
 },
 "nbformat": 4,
 "nbformat_minor": 5
}
