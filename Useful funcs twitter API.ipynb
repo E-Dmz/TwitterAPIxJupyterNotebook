{
 "cells": [
  {
   "cell_type": "code",
   "execution_count": 1,
   "id": "aa61308b",
   "metadata": {},
   "outputs": [],
   "source": [
    "import twitter\n",
    "from twitter_keys import keys\n",
    "api = twitter.Api(**keys)"
   ]
  },
  {
   "cell_type": "code",
   "execution_count": 2,
   "id": "fe5b3942",
   "metadata": {},
   "outputs": [
    {
     "data": {
      "text/plain": [
       "'/home/edmz/TwitterBot/TwitterAPIxJupyterNotebook'"
      ]
     },
     "execution_count": 2,
     "metadata": {},
     "output_type": "execute_result"
    }
   ],
   "source": [
    "import os\n",
    "os.getcwd()"
   ]
  },
  {
   "cell_type": "code",
   "execution_count": 12,
   "id": "b191c079",
   "metadata": {},
   "outputs": [],
   "source": [
    "!touch my_tweets.py"
   ]
  },
  {
   "cell_type": "code",
   "execution_count": 13,
   "id": "3afa78a5",
   "metadata": {},
   "outputs": [
    {
     "ename": "TypeError",
     "evalue": "the JSON object must be str, bytes or bytearray, not TextIOWrapper",
     "output_type": "error",
     "traceback": [
      "\u001b[0;31m---------------------------------------------------------------------------\u001b[0m",
      "\u001b[0;31mTypeError\u001b[0m                                 Traceback (most recent call last)",
      "\u001b[0;32m<ipython-input-13-88e49f57dd2f>\u001b[0m in \u001b[0;36m<module>\u001b[0;34m\u001b[0m\n\u001b[1;32m      2\u001b[0m \u001b[0;34m\u001b[0m\u001b[0m\n\u001b[1;32m      3\u001b[0m \u001b[0;32mwith\u001b[0m \u001b[0mopen\u001b[0m\u001b[0;34m(\u001b[0m\u001b[0;34m'my_tweets.py'\u001b[0m\u001b[0;34m,\u001b[0m \u001b[0;34m'r'\u001b[0m\u001b[0;34m)\u001b[0m \u001b[0;32mas\u001b[0m \u001b[0mf\u001b[0m\u001b[0;34m:\u001b[0m\u001b[0;34m\u001b[0m\u001b[0;34m\u001b[0m\u001b[0m\n\u001b[0;32m----> 4\u001b[0;31m     \u001b[0mlist_tweets\u001b[0m \u001b[0;34m=\u001b[0m \u001b[0mjson\u001b[0m\u001b[0;34m.\u001b[0m\u001b[0mloads\u001b[0m\u001b[0;34m(\u001b[0m\u001b[0mf\u001b[0m\u001b[0;34m)\u001b[0m\u001b[0;34m\u001b[0m\u001b[0;34m\u001b[0m\u001b[0m\n\u001b[0m\u001b[1;32m      5\u001b[0m \u001b[0mlist_tweets\u001b[0m\u001b[0;34m\u001b[0m\u001b[0;34m\u001b[0m\u001b[0m\n",
      "\u001b[0;32m/usr/lib/python3.8/json/__init__.py\u001b[0m in \u001b[0;36mloads\u001b[0;34m(s, cls, object_hook, parse_float, parse_int, parse_constant, object_pairs_hook, **kw)\u001b[0m\n\u001b[1;32m    339\u001b[0m     \u001b[0;32melse\u001b[0m\u001b[0;34m:\u001b[0m\u001b[0;34m\u001b[0m\u001b[0;34m\u001b[0m\u001b[0m\n\u001b[1;32m    340\u001b[0m         \u001b[0;32mif\u001b[0m \u001b[0;32mnot\u001b[0m \u001b[0misinstance\u001b[0m\u001b[0;34m(\u001b[0m\u001b[0ms\u001b[0m\u001b[0;34m,\u001b[0m \u001b[0;34m(\u001b[0m\u001b[0mbytes\u001b[0m\u001b[0;34m,\u001b[0m \u001b[0mbytearray\u001b[0m\u001b[0;34m)\u001b[0m\u001b[0;34m)\u001b[0m\u001b[0;34m:\u001b[0m\u001b[0;34m\u001b[0m\u001b[0;34m\u001b[0m\u001b[0m\n\u001b[0;32m--> 341\u001b[0;31m             raise TypeError(f'the JSON object must be str, bytes or bytearray, '\n\u001b[0m\u001b[1;32m    342\u001b[0m                             f'not {s.__class__.__name__}')\n\u001b[1;32m    343\u001b[0m         \u001b[0ms\u001b[0m \u001b[0;34m=\u001b[0m \u001b[0ms\u001b[0m\u001b[0;34m.\u001b[0m\u001b[0mdecode\u001b[0m\u001b[0;34m(\u001b[0m\u001b[0mdetect_encoding\u001b[0m\u001b[0;34m(\u001b[0m\u001b[0ms\u001b[0m\u001b[0;34m)\u001b[0m\u001b[0;34m,\u001b[0m \u001b[0;34m'surrogatepass'\u001b[0m\u001b[0;34m)\u001b[0m\u001b[0;34m\u001b[0m\u001b[0;34m\u001b[0m\u001b[0m\n",
      "\u001b[0;31mTypeError\u001b[0m: the JSON object must be str, bytes or bytearray, not TextIOWrapper"
     ]
    }
   ],
   "source": [
    "import json\n",
    "\n",
    "with open('my_tweets.py', 'r') as f:\n",
    "    list_tweets = json.loads(f)\n",
    "list_tweets"
   ]
  },
  {
   "cell_type": "code",
   "execution_count": 10,
   "id": "473605ef",
   "metadata": {},
   "outputs": [],
   "source": [
    "!touch followers_greeted.py\n",
    "!touch all_followers.py\n",
    "!touch followers_gone.py"
   ]
  },
  {
   "cell_type": "code",
   "execution_count": 7,
   "id": "da1951e2",
   "metadata": {},
   "outputs": [],
   "source": [
    "with open('FollowersGreeted.py', 'a') as file:\n",
    "    file.write(f'{[followers[-1].id]}\\n')"
   ]
  },
  {
   "cell_type": "code",
   "execution_count": 9,
   "id": "9309351e",
   "metadata": {},
   "outputs": [
    {
     "data": {
      "text/plain": [
       "[User(ID=1261035154627321856, ScreenName=abusultaa),\n",
       " User(ID=802331744, ScreenName=LeTigreH),\n",
       " User(ID=64773308, ScreenName=jcarlosc70),\n",
       " User(ID=1552244701, ScreenName=FDVBio),\n",
       " User(ID=2635870426, ScreenName=TobozMaleson),\n",
       " User(ID=1410469173432664067, ScreenName=Yzu67wy5Zuxyx13),\n",
       " User(ID=129425772, ScreenName=bobo69120),\n",
       " User(ID=454228402, ScreenName=PeppeGanga),\n",
       " User(ID=115890590, ScreenName=E_Dmz)]"
      ]
     },
     "execution_count": 9,
     "metadata": {},
     "output_type": "execute_result"
    }
   ],
   "source": [
    "followers = api.GetFollowers()\n",
    "followers"
   ]
  },
  {
   "cell_type": "code",
   "execution_count": 14,
   "id": "8b989b07",
   "metadata": {},
   "outputs": [],
   "source": [
    "statuses = api.GetUserTimeline(count = 200)\n",
    "# print(statuses[0])\n",
    "# print(statuses[-1])\n",
    "# print(len(statuses))"
   ]
  },
  {
   "cell_type": "code",
   "execution_count": 24,
   "id": "a603187e",
   "metadata": {},
   "outputs": [],
   "source": [
    "statuses = api.GetUserTimeline(count = 200)\n",
    "text_statuses = [status.AsDict() for status in statuses]\n",
    "with open('my_tweets.py', 'w') as f:\n",
    "    json.dump(text_statuses, f)"
   ]
  },
  {
   "cell_type": "code",
   "execution_count": 20,
   "id": "34a9e837",
   "metadata": {},
   "outputs": [
    {
     "data": {
      "text/plain": [
       "['AsDict',\n",
       " 'AsJsonString',\n",
       " 'NewFromJsonDict',\n",
       " '__class__',\n",
       " '__delattr__',\n",
       " '__dict__',\n",
       " '__dir__',\n",
       " '__doc__',\n",
       " '__eq__',\n",
       " '__format__',\n",
       " '__ge__',\n",
       " '__getattribute__',\n",
       " '__gt__',\n",
       " '__hash__',\n",
       " '__init__',\n",
       " '__init_subclass__',\n",
       " '__le__',\n",
       " '__lt__',\n",
       " '__module__',\n",
       " '__ne__',\n",
       " '__new__',\n",
       " '__reduce__',\n",
       " '__reduce_ex__',\n",
       " '__repr__',\n",
       " '__setattr__',\n",
       " '__sizeof__',\n",
       " '__str__',\n",
       " '__subclasshook__',\n",
       " '__weakref__',\n",
       " '_json',\n",
       " 'contributors',\n",
       " 'coordinates',\n",
       " 'created_at',\n",
       " 'created_at_in_seconds',\n",
       " 'current_user_retweet',\n",
       " 'favorite_count',\n",
       " 'favorited',\n",
       " 'full_text',\n",
       " 'geo',\n",
       " 'hashtags',\n",
       " 'id',\n",
       " 'id_str',\n",
       " 'in_reply_to_screen_name',\n",
       " 'in_reply_to_status_id',\n",
       " 'in_reply_to_user_id',\n",
       " 'lang',\n",
       " 'location',\n",
       " 'media',\n",
       " 'param_defaults',\n",
       " 'place',\n",
       " 'possibly_sensitive',\n",
       " 'quoted_status',\n",
       " 'quoted_status_id',\n",
       " 'quoted_status_id_str',\n",
       " 'retweet_count',\n",
       " 'retweeted',\n",
       " 'retweeted_status',\n",
       " 'scopes',\n",
       " 'source',\n",
       " 'text',\n",
       " 'truncated',\n",
       " 'tweet_mode',\n",
       " 'urls',\n",
       " 'user',\n",
       " 'user_mentions',\n",
       " 'withheld_copyright',\n",
       " 'withheld_in_countries',\n",
       " 'withheld_scope']"
      ]
     },
     "execution_count": 20,
     "metadata": {},
     "output_type": "execute_result"
    }
   ],
   "source": [
    "# statuses = api.GetUserTimeline(count = 200)\n",
    "# print(statuses[-1])\n",
    "# print(len(statuses))\n",
    "dir(statuses[-1])"
   ]
  },
  {
   "cell_type": "code",
   "execution_count": 22,
   "id": "b748b60b",
   "metadata": {},
   "outputs": [
    {
     "data": {
      "text/plain": [
       "{'created_at': 'Mon Jul 19 20:30:20 +0000 2021',\n",
       " 'favorited': True,\n",
       " 'hashtags': [],\n",
       " 'id': 1417220281685454854,\n",
       " 'id_str': '1417220281685454854',\n",
       " 'lang': 'fr',\n",
       " 'quoted_status_id': 1417217439830581248,\n",
       " 'quoted_status_id_str': '1417217439830581248',\n",
       " 'retweet_count': 1,\n",
       " 'retweeted': True,\n",
       " 'retweeted_status': {'created_at': 'Mon Jul 19 20:29:20 +0000 2021',\n",
       "  'favorite_count': 1,\n",
       "  'favorited': True,\n",
       "  'hashtags': [],\n",
       "  'id': 1417220030283067397,\n",
       "  'id_str': '1417220030283067397',\n",
       "  'in_reply_to_screen_name': 'marcmaxmeister',\n",
       "  'in_reply_to_status_id': 1417175726181158913,\n",
       "  'in_reply_to_user_id': 20646301,\n",
       "  'lang': 'fr',\n",
       "  'quoted_status': {'created_at': 'Mon Jul 19 20:19:02 +0000 2021',\n",
       "   'favorite_count': 2,\n",
       "   'hashtags': [],\n",
       "   'id': 1417217439830581248,\n",
       "   'id_str': '1417217439830581248',\n",
       "   'lang': 'en',\n",
       "   'retweet_count': 1,\n",
       "   'source': '<a href=\"https://help.twitter.com/en/using-twitter/how-to-tweet#source-labels\" rel=\"nofollow\">hello-world-edmz</a>',\n",
       "   'text': '# [🧡 Code] 🤖 This script is a SelfTweetingScript\\nimport twitter\\nfrom keys import keys\\napi = twitter.Api(**keys)\\nwit… https://t.co/Qc3hmeejad',\n",
       "   'truncated': True,\n",
       "   'urls': [{'expanded_url': 'https://twitter.com/i/web/status/1417217439830581248',\n",
       "     'url': 'https://t.co/Qc3hmeejad'}],\n",
       "   'user': {'created_at': 'Tue Jul 06 04:48:12 +0000 2021',\n",
       "    'default_profile': True,\n",
       "    'description': \"🤖 by @E_Dmz\\ni'm using #python \\n#twitterapi \\n#github\",\n",
       "    'favourites_count': 10,\n",
       "    'followers_count': 9,\n",
       "    'friends_count': 2,\n",
       "    'id': 1412271973707751425,\n",
       "    'id_str': '1412271973707751425',\n",
       "    'name': 'E-Dmz bot',\n",
       "    'profile_background_color': 'F5F8FA',\n",
       "    'profile_banner_url': 'https://pbs.twimg.com/profile_banners/1412271973707751425/1626241872',\n",
       "    'profile_image_url': 'http://pbs.twimg.com/profile_images/1414505143580647426/-Tgj-0eN_normal.jpg',\n",
       "    'profile_image_url_https': 'https://pbs.twimg.com/profile_images/1414505143580647426/-Tgj-0eN_normal.jpg',\n",
       "    'profile_link_color': '1DA1F2',\n",
       "    'profile_sidebar_border_color': 'C0DEED',\n",
       "    'profile_sidebar_fill_color': 'DDEEF6',\n",
       "    'profile_text_color': '333333',\n",
       "    'profile_use_background_image': True,\n",
       "    'screen_name': 'E_Dmz_Bot',\n",
       "    'statuses_count': 227,\n",
       "    'url': 'https://t.co/IHjvz27MTQ',\n",
       "    'withheld_in_countries': []},\n",
       "   'user_mentions': []},\n",
       "  'quoted_status_id': 1417217439830581248,\n",
       "  'quoted_status_id_str': '1417217439830581248',\n",
       "  'retweet_count': 1,\n",
       "  'retweeted': True,\n",
       "  'source': '<a href=\"https://mobile.twitter.com\" rel=\"nofollow\">Twitter Web App</a>',\n",
       "  'text': '@marcmaxmeister @E_Dmz_Bot @MelMitchell1 Voilà⤵️ https://t.co/RuPnPgE7xI',\n",
       "  'urls': [{'expanded_url': 'https://twitter.com/E_Dmz_Bot/status/1417217439830581248',\n",
       "    'url': 'https://t.co/RuPnPgE7xI'}],\n",
       "  'user': {'created_at': 'Sat Feb 20 09:47:04 +0000 2010',\n",
       "   'default_profile': True,\n",
       "   'description': '💚Biochimie 🧡Code \\n💙Apprendre ❤️Paris \\n🇨🇵 🇮🇹 🇬🇧\\n🤖 @E_Dmz_Bot',\n",
       "   'favourites_count': 475,\n",
       "   'followers_count': 93,\n",
       "   'following': True,\n",
       "   'friends_count': 734,\n",
       "   'id': 115890590,\n",
       "   'id_str': '115890590',\n",
       "   'listed_count': 1,\n",
       "   'location': 'Paris 12e, Aligre-Gare de Lyon',\n",
       "   'name': 'E-Dmz',\n",
       "   'profile_background_color': 'C0DEED',\n",
       "   'profile_background_image_url': 'http://abs.twimg.com/images/themes/theme1/bg.png',\n",
       "   'profile_background_image_url_https': 'https://abs.twimg.com/images/themes/theme1/bg.png',\n",
       "   'profile_banner_url': 'https://pbs.twimg.com/profile_banners/115890590/1615072503',\n",
       "   'profile_image_url': 'http://pbs.twimg.com/profile_images/1368339362627416066/al-6Q2pj_normal.jpg',\n",
       "   'profile_image_url_https': 'https://pbs.twimg.com/profile_images/1368339362627416066/al-6Q2pj_normal.jpg',\n",
       "   'profile_link_color': '1DA1F2',\n",
       "   'profile_sidebar_border_color': 'C0DEED',\n",
       "   'profile_sidebar_fill_color': 'DDEEF6',\n",
       "   'profile_text_color': '333333',\n",
       "   'profile_use_background_image': True,\n",
       "   'screen_name': 'E_Dmz',\n",
       "   'statuses_count': 608,\n",
       "   'url': 'https://t.co/XEjsnRdQpy',\n",
       "   'withheld_in_countries': []},\n",
       "  'user_mentions': [{'id': 20646301,\n",
       "    'id_str': '20646301',\n",
       "    'name': 'marcmaxmeister',\n",
       "    'screen_name': 'marcmaxmeister'},\n",
       "   {'id': 1412271973707751425,\n",
       "    'id_str': '1412271973707751425',\n",
       "    'name': 'E-Dmz bot',\n",
       "    'screen_name': 'E_Dmz_Bot'},\n",
       "   {'id': 367297219,\n",
       "    'id_str': '367297219',\n",
       "    'name': 'Melanie Mitchell',\n",
       "    'screen_name': 'MelMitchell1'}]},\n",
       " 'source': '<a href=\"https://mobile.twitter.com\" rel=\"nofollow\">Twitter Web App</a>',\n",
       " 'text': 'RT @E_Dmz: @marcmaxmeister @E_Dmz_Bot @MelMitchell1 Voilà⤵️ https://t.co/RuPnPgE7xI',\n",
       " 'urls': [{'expanded_url': 'https://twitter.com/E_Dmz_Bot/status/1417217439830581248',\n",
       "   'url': 'https://t.co/RuPnPgE7xI'}],\n",
       " 'user': {'created_at': 'Tue Jul 06 04:48:12 +0000 2021',\n",
       "  'default_profile': True,\n",
       "  'description': \"🤖 by @E_Dmz\\ni'm using #python \\n#twitterapi \\n#github\",\n",
       "  'favourites_count': 10,\n",
       "  'followers_count': 9,\n",
       "  'friends_count': 2,\n",
       "  'id': 1412271973707751425,\n",
       "  'id_str': '1412271973707751425',\n",
       "  'name': 'E-Dmz bot',\n",
       "  'profile_background_color': 'F5F8FA',\n",
       "  'profile_banner_url': 'https://pbs.twimg.com/profile_banners/1412271973707751425/1626241872',\n",
       "  'profile_image_url': 'http://pbs.twimg.com/profile_images/1414505143580647426/-Tgj-0eN_normal.jpg',\n",
       "  'profile_image_url_https': 'https://pbs.twimg.com/profile_images/1414505143580647426/-Tgj-0eN_normal.jpg',\n",
       "  'profile_link_color': '1DA1F2',\n",
       "  'profile_sidebar_border_color': 'C0DEED',\n",
       "  'profile_sidebar_fill_color': 'DDEEF6',\n",
       "  'profile_text_color': '333333',\n",
       "  'profile_use_background_image': True,\n",
       "  'screen_name': 'E_Dmz_Bot',\n",
       "  'statuses_count': 227,\n",
       "  'url': 'https://t.co/IHjvz27MTQ',\n",
       "  'withheld_in_countries': []},\n",
       " 'user_mentions': [{'id': 115890590,\n",
       "   'id_str': '115890590',\n",
       "   'name': 'E-Dmz',\n",
       "   'screen_name': 'E_Dmz'},\n",
       "  {'id': 20646301,\n",
       "   'id_str': '20646301',\n",
       "   'name': 'marcmaxmeister',\n",
       "   'screen_name': 'marcmaxmeister'},\n",
       "  {'id': 1412271973707751425,\n",
       "   'id_str': '1412271973707751425',\n",
       "   'name': 'E-Dmz bot',\n",
       "   'screen_name': 'E_Dmz_Bot'},\n",
       "  {'id': 367297219,\n",
       "   'id_str': '367297219',\n",
       "   'name': 'Melanie Mitchell',\n",
       "   'screen_name': 'MelMitchell1'}]}"
      ]
     },
     "execution_count": 22,
     "metadata": {},
     "output_type": "execute_result"
    }
   ],
   "source": [
    "statuses[0].AsDict()"
   ]
  },
  {
   "cell_type": "code",
   "execution_count": null,
   "id": "11ae740c",
   "metadata": {},
   "outputs": [],
   "source": []
  },
  {
   "cell_type": "code",
   "execution_count": 7,
   "id": "c59b0dd5",
   "metadata": {},
   "outputs": [],
   "source": [
    "statuses = api.GetHomeTimeline()[0:1]\n",
    "for status in statuses:\n",
    "    api.DestroyStatus(status.id)"
   ]
  },
  {
   "cell_type": "code",
   "execution_count": 3,
   "id": "1dc7b48f",
   "metadata": {},
   "outputs": [
    {
     "data": {
      "text/plain": [
       "[Status(ID=1416246285716307978, ScreenName=E_Dmz_Bot, Created=Sat Jul 17 04:00:01 +0000 2021, Text=\"[WakeUp 🤖]\\nHello,\\nToday is Saturday, July 17, and it's 06:00 in Paris.\\nHave a nice day!\"),\n",
       " Status(ID=1416088240973570052, ScreenName=E_Dmz_Bot, Created=Fri Jul 16 17:32:00 +0000 2021, Text='RT @E_Dmz_Bot: [🤖 MAJ 16/07 19:31]\\nIncidence et données hospitalières en Île-de-France ⤵️\\n@SantePubliqueFr @datagouvfr\\n1/9 https://t.co/59i…'),\n",
       " Status(ID=1416088239761416197, ScreenName=E_Dmz_Bot, Created=Fri Jul 16 17:32:00 +0000 2021, Text=\"🤖 Pour faire cette MAJ, il m'a fallu : \\n2.1 s pour télécharger, \\n7.8 s pour calculer,\\n76.1 s pour tracer,\\net 31.4 s pour publier\\n9/9\")]"
      ]
     },
     "execution_count": 3,
     "metadata": {},
     "output_type": "execute_result"
    }
   ],
   "source": [
    "api.GetUserTimeline()[:3]"
   ]
  },
  {
   "cell_type": "code",
   "execution_count": null,
   "id": "19d6b61e",
   "metadata": {},
   "outputs": [],
   "source": [
    "status_posted = api.PostUpdate(f'Hello world!')"
   ]
  },
  {
   "cell_type": "code",
   "execution_count": null,
   "id": "19d321fb",
   "metadata": {},
   "outputs": [],
   "source": [
    "status_posted_2 = api.PostUpdate('I can reply too...', in_reply_to_status_id = status_posted.id, auto_populate_reply_metadata = True)"
   ]
  },
  {
   "cell_type": "code",
   "execution_count": null,
   "id": "fef23453",
   "metadata": {},
   "outputs": [],
   "source": [
    "api.DestroyStatus(status_posted.id)\n",
    "api.DestroyStatus(status_posted_2.id)"
   ]
  }
 ],
 "metadata": {
  "kernelspec": {
   "display_name": "Python 3",
   "language": "python",
   "name": "python3"
  },
  "language_info": {
   "codemirror_mode": {
    "name": "ipython",
    "version": 3
   },
   "file_extension": ".py",
   "mimetype": "text/x-python",
   "name": "python",
   "nbconvert_exporter": "python",
   "pygments_lexer": "ipython3",
   "version": "3.8.10"
  }
 },
 "nbformat": 4,
 "nbformat_minor": 5
}
